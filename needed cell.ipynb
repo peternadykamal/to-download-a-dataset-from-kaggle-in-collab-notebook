{
  "nbformat": 4,
  "nbformat_minor": 0,
  "metadata": {
    "colab": {
      "provenance": []
    },
    "kernelspec": {
      "name": "python3",
      "display_name": "Python 3"
    },
    "language_info": {
      "name": "python"
    }
  },
  "cells": [
    {
      "cell_type": "code",
      "source": [
        "#@title copy this cell in your noteboook\n",
        "#@markdown #follow these steps before running this cell\n",
        "!pip install -U -q PyDrive\n",
        "import os\n",
        "from pydrive.auth import GoogleAuth\n",
        "from pydrive.drive import GoogleDrive\n",
        "from google.colab import auth\n",
        "from oauth2client.client import GoogleCredentials\n",
        "auth.authenticate_user()\n",
        "gauth = GoogleAuth()\n",
        "gauth.credentials = GoogleCredentials.get_application_default()\n",
        "drive = GoogleDrive(gauth)\n",
        "#@markdown 1. you need to get kaggle.json from your kaggle account\n",
        "#@markdown  + click on your profile picture on the right hand corner\n",
        "#@markdown  + choose account\n",
        "#@markdown  + in API section, press on Create New API Token\n",
        "#@markdown  + a file will start downloading on your machine called kaggle.json\n",
        "#@markdown 2. open your google drive & upload kaggle.json anywhere in your drive\n",
        "#@markdown  + wait until it finish downloading\n",
        "#@markdown  + righ click on kaggle.json and press share then choose copy link\n",
        "#@markdown  + paste the link in the input below\n",
        "#this kaggleLink that for kaggle.json file stored in my drive\n",
        "kaggleLink_onYourDrive=\"\"#@param {type:\"string\"}\n",
        "id = ((kaggleLink_onYourDrive.split('d/')[1]).split('/'))[0]\n",
        "downloaded = drive.CreateFile({'id':id}) \n",
        "downloaded.GetContentFile('kaggle.json')\n",
        "!pip install -q kaggle\n",
        "!mkdir -p ~/.kaggle\n",
        "!cp kaggle.json ~/.kaggle/\n",
        "!chmod 600 /root/.kaggle/kaggle.json\n",
        "#@markdown  3. choose the dataset you want to download \n",
        "#@markdown    + look for the three dots (beside the download button), then click on it\n",
        "#@markdown    + choose \"copy API command\"\n",
        "#@markdown    + paste the command in the input below\n",
        "APIcommand = \"\"#@param {type:\"string\"}\n",
        "os.system(APIcommand)\n",
        "#@markdown    4. run this cell\n",
        "zipFileName = \"\"\n",
        "#@markdown  5. in colab open files icon (in the left side bar) \n",
        "#@markdown    + copy the name of the zip file\n",
        "#@markdown    + paste it in the input below with zip extension\n",
        "#@markdown </br> Note that: this cell will keep loading as long as the input below equal to none\n",
        "while zipFileName==\"\":\n",
        "  zipFileName=input (\"paste zip file name here >> \")\n",
        "  print(zipFileName)\n",
        "  if(zipFileName!=\"\"): break\n",
        "os.system(\"unzip \"+zipFileName)\n"
      ],
      "metadata": {
        "cellView": "form",
        "id": "iQWHOOPdJ5fE"
      },
      "execution_count": null,
      "outputs": []
    }
  ]
}